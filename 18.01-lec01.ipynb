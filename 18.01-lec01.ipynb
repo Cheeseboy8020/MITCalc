{
 "cells": [
  {
   "cell_type": "code",
   "execution_count": 27,
   "outputs": [],
   "source": [
    "%matplotlib notebook\n",
    "import matplotlib.animation as animation\n",
    "import numpy as np\n",
    "from matplotlib import pyplot as plt\n",
    "\n",
    "\n",
    "x = np.linspace(0, 1, 100)\n",
    "\n",
    "rat = lambda x: 1/x\n",
    "lin = lambda frame: (-1/pow(frame, 2))*(x-frame)+rat(frame)\n",
    "\n",
    "plt.style.use('dark_background')\n",
    "fig, ax = plt.subplots()\n",
    "\n",
    "rat1, = ax.plot(x, rat(x))\n",
    "lin1, = ax.plot([], [])\n",
    "p1, = ax.plot([], [], 'o')\n",
    "def init():\n",
    "    ax.set_xlim([0, 1])\n",
    "    ax.set_ylim([0, 5])\n",
    "    return rat1,\n",
    "\n",
    "def update(frame):\n",
    "    return p1.set_data(frame, rat(frame)), lin1.set_data(x, lin(frame))\n",
    "\n",
    "ani = animation.FuncAnimation(fig=fig, func=update, interval=5, frames=x, init_func=init, blit=True)\n",
    "plt.show()\n",
    "ani.save(filename=\"./model.gif\", writer=\"pillow\")"
   ],
   "metadata": {
    "collapsed": false
   }
  },
  {
   "cell_type": "code",
   "execution_count": null,
   "outputs": [],
   "source": [],
   "metadata": {
    "collapsed": false,
    "ExecuteTime": {
     "start_time": "2023-06-13T06:50:03.161603850Z"
    }
   }
  }
 ],
 "metadata": {
  "kernelspec": {
   "display_name": "Python 3",
   "language": "python",
   "name": "python3"
  },
  "language_info": {
   "codemirror_mode": {
    "name": "ipython",
    "version": 2
   },
   "file_extension": ".py",
   "mimetype": "text/x-python",
   "name": "python",
   "nbconvert_exporter": "python",
   "pygments_lexer": "ipython2",
   "version": "2.7.6"
  }
 },
 "nbformat": 4,
 "nbformat_minor": 0
}
